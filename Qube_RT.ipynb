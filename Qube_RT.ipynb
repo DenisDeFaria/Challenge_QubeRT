{
 "cells": [
  {
   "cell_type": "code",
   "execution_count": null,
   "metadata": {},
   "outputs": [],
   "source": [
    "import torch\n",
    "import numpy as np\n",
    "import pandas as pd\n",
    "import matplotlib.pyplot as plt\n",
    "import torch.nn as nn"
   ]
  },
  {
   "cell_type": "code",
   "execution_count": null,
   "metadata": {},
   "outputs": [],
   "source": [
    "X_train = pd.read_csv('./Challenge/X_train.csv', index_col=0, sep=',')\n",
    "X_train.columns.name = 'date'\n",
    "\n",
    "Y_train = pd.read_csv('./Challenge/Y_train.csv', index_col=0, sep=',')\n",
    "Y_train.columns.name = 'date'"
   ]
  },
  {
   "cell_type": "code",
   "execution_count": null,
   "metadata": {},
   "outputs": [],
   "source": [
    "X_train_reshape = pd.concat([ X_train.T.shift(i+1).stack(dropna=False) for i in range(250) ], 1).dropna()\n",
    "X_train_reshape.columns = pd.Index(range(1,251), name='timeLag')"
   ]
  },
  {
   "cell_type": "markdown",
   "metadata": {},
   "source": [
    "# Function"
   ]
  },
  {
   "cell_type": "code",
   "execution_count": null,
   "metadata": {},
   "outputs": [],
   "source": [
    "def fitBeta(A):\n",
    "    X_train_reshape2 = torch.tensor(X_train_reshape.values)\n",
    "    predictors = torch.mm(X_train_reshape2 , A) # the dataframe of the 10 factors created from A with the (date, stock) in index\n",
    "\n",
    "    targets = Y_train.T.stack()\n",
    "    targets = torch.tensor(targets.values)\n",
    "    targets = targets[:,None]\n",
    "\n",
    "    beta = torch.linalg.inv(torch.mm(predictors.T, predictors))\n",
    "    beta = torch.mm(beta, predictors.T)\n",
    "    beta = torch.mm(beta, targets)\n",
    "    \n",
    "\n",
    "    \n",
    "    return beta\n",
    "\n",
    "def metric(df_y_true, df_y_pred):\n",
    "    \"\"\" Compute metric. \"\"\"\n",
    "    if df_y_pred is None:  # If the y_pred has only zeroes, the metric is set to -1.\n",
    "        return -1.0\n",
    "    \n",
    "    y_true = df_y_true.T\n",
    "    y_pred = df_y_pred.T\n",
    "    \n",
    "    y_true = y_true.div(y_true.pow(2.0).sum(1).pow(0.5), 0)\n",
    "    y_pred = y_pred.div(y_pred.pow(2.0).sum(1).pow(0.5), 0)\n",
    "\n",
    "    mean_overlap = (y_true * y_pred).sum(1).mean()\n",
    "\n",
    "    return mean_overlap   \n",
    "\n",
    "def metric_train(X, beta): \n",
    "    \n",
    "    X_train_reshape2 = torch.tensor(X_train_reshape.values)\n",
    "    beta = beta.reshape(10,1)\n",
    "    Ypred = torch.mm(X_train_reshape2, X)\n",
    "    Ypred = torch.mm(Ypred, beta)\n",
    "    Ypred = Ypred.reshape(504,50).T \n",
    "    Ytrue = torch.tensor(Y_train.values)\n",
    "    \n",
    "    for k in range(504):\n",
    "        Ytrue[:,k] = Ytrue[:,k].clone()/torch.linalg.norm(Ytrue[:,k].clone())\n",
    "\n",
    "        Ypred[:,k] = Ypred[:,k].clone()/torch.linalg.norm(Ypred[:,k].clone())\n",
    "\n",
    "    \n",
    "    meanOverlap = torch.mean(torch.sum(Ytrue*Ypred,dim =  0))\n",
    "\n",
    "    return 0.2-meanOverlap\n",
    "\n",
    "\n",
    "\n"
   ]
  },
  {
   "cell_type": "markdown",
   "metadata": {},
   "source": [
    "# Function Submission"
   ]
  },
  {
   "cell_type": "code",
   "execution_count": null,
   "metadata": {},
   "outputs": [],
   "source": [
    "def transform_submission_to_ypred(df_A,df_beta, x_test, y_test):\n",
    "    \"\"\" Transform submission output (A, beta) into predicted returns S_t.\"\"\"\n",
    "    df_A = df_A.to_numpy()\n",
    "    df_beta = df_beta.to_numpy()\n",
    "    \n",
    "    A = df_A.reshape((250, 10))\n",
    "    beta = df_beta.reshape(10)\n",
    "\n",
    "    E = pd.DataFrame(A.T @ A - np.eye(10)).abs()  \n",
    "\n",
    "    # check orthogonality of A\n",
    "    if any(E.unstack() > 1e-6): \n",
    "        return None\n",
    "\n",
    "    x_test = x_test.T\n",
    "    y_test = y_test.T\n",
    "\n",
    "    x_test = x_test[y_test.columns]\n",
    "\n",
    "    x_test_reshape = pd.concat([x_test.shift(i+1).stack(dropna=False) for i in range(250)], 1).dropna()\n",
    "    y_pred = (x_test_reshape @ A @ beta).unstack()\n",
    "\n",
    "    return y_pred.T\n",
    "\n",
    "def parametersTransform(A, beta, D=250, F=10):\n",
    "    \n",
    "    if A.shape != (D, F):\n",
    "        print('A has not the good shape')\n",
    "        return\n",
    "    \n",
    "    if beta.shape[0] != F:\n",
    "        print('beta has not the good shape')\n",
    "        return        \n",
    "    \n",
    "    output = np.hstack( (np.hstack([A.T, beta.reshape((F, 1))])).T )\n",
    "    \n",
    "    return output\n",
    "\n",
    "def fitBeta_df(A):\n",
    "    predictors = X_train_reshape @ A # the dataframe of the 10 factors created from A with the (date, stock) in index\n",
    "    targets = Y_train.T.stack()\n",
    "    beta = np.linalg.inv(predictors.T @ predictors) @ predictors.T @ targets\n",
    "    \n",
    "    return beta.to_numpy()"
   ]
  },
  {
   "cell_type": "markdown",
   "metadata": {},
   "source": [
    "# Training"
   ]
  },
  {
   "cell_type": "code",
   "execution_count": null,
   "metadata": {},
   "outputs": [],
   "source": [
    "torch.cuda.is_available()\n",
    "device = torch.device(\"cuda:0\" if torch.cuda.is_available() else \"cpu\")"
   ]
  },
  {
   "cell_type": "markdown",
   "metadata": {},
   "source": [
    "## First model"
   ]
  },
  {
   "cell_type": "code",
   "execution_count": null,
   "metadata": {},
   "outputs": [],
   "source": [
    "class descente():\n",
    "    def __init__(self):\n",
    "        super(descente, self).__init__()\n",
    "        #self.A = torch.tensor(A_QRT, requires_grad = True)\n",
    "        self.A = torch.rand((250,10), requires_grad = True)\n",
    "\n",
    "    \n",
    "    def parameters(self):\n",
    "      return([self.A])\n",
    "\n",
    "    def forward(self):\n",
    "        return torch.linalg.qr(self.A, mode='reduced')[0]"
   ]
  },
  {
   "cell_type": "code",
   "execution_count": null,
   "metadata": {},
   "outputs": [],
   "source": [
    "model = descente()\n",
    "\n",
    "\n",
    "\n",
    "n_epochs = 1000\n",
    "lr = 0.5\n",
    "\n",
    "optimizer = torch.optim.Adam(model.parameters(), lr)\n"
   ]
  },
  {
   "cell_type": "code",
   "execution_count": null,
   "metadata": {},
   "outputs": [],
   "source": [
    "total_loss = 0.0\n",
    "min_loss = 0.2\n",
    "Mat_fin = torch.rand(250,10)\n",
    "Loss_mat = []\n",
    "Loss_test = []\n",
    "for j in range(n_epochs):\n",
    "  \n",
    "  Mat = model.forward().double()\n",
    "  Mat.to(device)\n",
    "\n",
    "  beta  = Mat.clone().detach()\n",
    "  beta.to(device)\n",
    "  beta =  fitBeta(beta)\n",
    "  \n",
    "\n",
    "  #loss = metric_train(Mat, beta  )\n",
    "  loss =  metric_train(Mat, beta, days = 77)\n",
    "\n",
    "  optimizer.zero_grad()\n",
    "  loss.backward()\n",
    "  optimizer.step()\n",
    "\n",
    "  if loss.item() < min_loss:\n",
    "    min_loss = loss.item()\n",
    "    Mat_fin = Mat.clone().detach().numpy()\n",
    "\n",
    "\n",
    " \n",
    "  \n",
    "  total_loss += loss.item()\n",
    "  if j >0:\n",
    "    Loss_test.append(metric_train(Mat.detach(), beta, days = 77-504))\n",
    "    Loss_mat.append(loss.item())\n",
    "\n",
    "  if j%100 ==0:\n",
    "    abscisse = np.linspace(1,len(Loss_mat), len(Loss_mat))\n",
    "    plt.plot(abscisse, Loss_mat)\n",
    "    plt.plot(abscisse, Loss_test)\n",
    "\n",
    "    plt.show()\n",
    "    #Loss_mat = []\n",
    "    print('At epochs '+str(j+1)+' : '+str(total_loss/(j+1)))\n",
    "    print('min_loss : '+str(min_loss))\n",
    "    Mat_fin = pd.DataFrame(Mat_fin)\n",
    "    Mat_fin.to_csv('./Challenge/random'+str(j))"
   ]
  },
  {
   "cell_type": "markdown",
   "metadata": {},
   "source": [
    "# Second model"
   ]
  },
  {
   "cell_type": "code",
   "execution_count": null,
   "metadata": {},
   "outputs": [],
   "source": [
    "class descente():\n",
    "    def __init__(self):\n",
    "        super(descente, self).__init__()\n",
    "        #self.A = torch.tensor(A_QRT, requires_grad = True)\n",
    "        self.A = torch.rand((250,10), requires_grad = True)\n",
    "        self.B = torch.rand((10), requires_grad = True)\n",
    "\n",
    "    def parameters(self):\n",
    "      return([self.A, self.B])\n",
    "\n",
    "    def forward(self):\n",
    "        return torch.linalg.qr(self.A, mode='reduced')[0], self.B"
   ]
  },
  {
   "cell_type": "code",
   "execution_count": null,
   "metadata": {},
   "outputs": [],
   "source": [
    "model = descente()\n",
    "n_epochs = 1000\n",
    "\n",
    "optimizer = torch.optim.Adam(model.parameters(), lr= 0.005)\n",
    "total_loss = 0.0\n",
    "min_loss = 0.2\n",
    "Mat_fin = torch.rand(250,10)\n",
    "beta_fin = torch.rand(10)\n",
    "Loss_mat = []\n",
    "for j in range(n_epochs):\n",
    "  \n",
    "  Mat, beta = model.forward()\n",
    "  Mat.to(device)\n",
    "  Mat = Mat.double()\n",
    "  #beta  = Mat.clone().detach()\n",
    "  beta.to(device)\n",
    "  beta = beta.double()\n",
    "  \n",
    "\n",
    "\n",
    "  loss =  metric_train(Mat, beta)\n",
    "\n",
    "  optimizer.zero_grad()\n",
    "  loss.backward()\n",
    "  optimizer.step()\n",
    "\n",
    "  if loss.item() < min_loss:\n",
    "    min_loss = loss.item()\n",
    "    Mat_fin = Mat.clone().detach().numpy()\n",
    "    beta_fin = beta.clone().detach().numpy()\n",
    "\n",
    "\n",
    " \n",
    "    \n",
    "  total_loss += loss.item()\n",
    "  if j >0:\n",
    "\n",
    "    Loss_mat.append(loss.item())\n",
    "\n",
    "  if j%50 ==0:\n",
    "    abscisse = np.linspace(1,len(Loss_mat), len(Loss_mat))\n",
    "    plt.plot(abscisse, Loss_mat)\n",
    "    plt.show()\n",
    "    #Loss_mat = []\n",
    "    print('At epochs '+str(j+1)+' : '+str(total_loss/(j+1)))\n",
    "    print('min_loss : '+str(min_loss))\n",
    "    Mat_fin = pd.DataFrame(Mat_fin)\n",
    "    Mat_fin.to_csv('./Challenge/A'+str(j))\n",
    "\n",
    "    beta_fin = pd.DataFrame(beta_fin)\n",
    "    beta_fin.to_csv('./Challenge/beta'+str(j))\n",
    "    "
   ]
  },
  {
   "cell_type": "markdown",
   "metadata": {},
   "source": [
    "# Submission "
   ]
  },
  {
   "cell_type": "code",
   "execution_count": null,
   "metadata": {},
   "outputs": [],
   "source": [
    "pathA = ''\n",
    "pathOutput = ''\n",
    "\n",
    "A = pd.read_csv('./Challenge/'+pathA, index_col=0, sep=',').to_numpy()\n",
    "#beta = pd.read_csv(PATH_GC+'/Challenge/beta1050', index_col=0, sep=',').to_numpy()\n",
    "\n",
    "beta = fitBeta_df(A)\n",
    "output = parametersTransform(A, beta)\n",
    "pd.DataFrame(output).to_csv('./Challenge/'+pathOutput+'.csv')"
   ]
  }
 ],
 "metadata": {
  "language_info": {
   "name": "python"
  },
  "orig_nbformat": 4
 },
 "nbformat": 4,
 "nbformat_minor": 2
}
