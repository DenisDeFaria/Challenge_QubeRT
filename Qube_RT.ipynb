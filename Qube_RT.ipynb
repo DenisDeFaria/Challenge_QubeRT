{
  "cells": [
    {
      "cell_type": "markdown",
      "metadata": {
        "id": "view-in-github",
        "colab_type": "text"
      },
      "source": [
        "<a href=\"https://colab.research.google.com/github/DenisDeFaria/Challenge_QubeRT/blob/main/Qube_RT.ipynb\" target=\"_parent\"><img src=\"https://colab.research.google.com/assets/colab-badge.svg\" alt=\"Open In Colab\"/></a>"
      ]
    },
    {
      "cell_type": "code",
      "execution_count": null,
      "metadata": {
        "colab": {
          "base_uri": "https://localhost:8080/"
        },
        "id": "0w37Ew3wgnMO",
        "outputId": "aa892e9b-b4cb-4e60-d4d7-0dfbccc3a6f1"
      },
      "outputs": [
        {
          "output_type": "stream",
          "name": "stdout",
          "text": [
            "Mounted at /content/drive\n"
          ]
        }
      ],
      "source": [
        "try :\n",
        "  from google.colab import drive\n",
        "  from google.colab import files\n",
        "  drive.mount('/content/drive')\n",
        "  PATH_GC = '/content/drive/My Drive/Challenge' \n",
        "except Exception:\n",
        "  print(\"Vous n'êtes pas sur Google Colab, vous êtes en local, assurez-vous d'avoir ajouter le Path du dossier Colab_sources\")\n",
        "  PATH_GC = ''#Emplacement du dossier /Colab_sources"
      ]
    },
    {
      "cell_type": "code",
      "execution_count": null,
      "metadata": {
        "id": "eGoh1WaygMFU"
      },
      "outputs": [],
      "source": [
        "import torch\n",
        "import numpy as np\n",
        "import pandas as pd\n",
        "import matplotlib.pyplot as plt\n",
        "import torch.nn as nn"
      ]
    },
    {
      "cell_type": "code",
      "execution_count": null,
      "metadata": {
        "id": "whTuYoITgMFb"
      },
      "outputs": [],
      "source": [
        "X_train = pd.read_csv(PATH_GC+'/X_train.csv', index_col=0, sep=',')\n",
        "X_train.columns.name = 'date'\n",
        "\n",
        "Y_train = pd.read_csv(PATH_GC+'/Y_train.csv', index_col=0, sep=',')\n",
        "Y_train.columns.name = 'date'\n"
      ]
    },
    {
      "cell_type": "code",
      "execution_count": null,
      "metadata": {
        "colab": {
          "base_uri": "https://localhost:8080/"
        },
        "id": "EGfvDOk6gMFc",
        "outputId": "6c56a95a-fc68-407e-e4a5-3ba00297ad49"
      },
      "outputs": [
        {
          "output_type": "stream",
          "name": "stderr",
          "text": [
            "/usr/local/lib/python3.7/dist-packages/ipykernel_launcher.py:1: FutureWarning: In a future version of pandas all arguments of concat except for the argument 'objs' will be keyword-only\n",
            "  \"\"\"Entry point for launching an IPython kernel.\n"
          ]
        }
      ],
      "source": [
        "X_train_reshape = pd.concat([ X_train.T.shift(i+1).stack(dropna=False) for i in range(250) ], 1).dropna()\n",
        "X_train_reshape.columns = pd.Index(range(1,251), name='timeLag')"
      ]
    },
    {
      "cell_type": "markdown",
      "metadata": {
        "id": "iR3y2022gMFd"
      },
      "source": [
        "# Function"
      ]
    },
    {
      "cell_type": "code",
      "execution_count": null,
      "metadata": {
        "id": "wkKc-jVFD2xA"
      },
      "outputs": [],
      "source": [
        "your_list = list(np.random.permutation(np.arange(0,50)))\n",
        "list_train = your_list[0:25]\n",
        "list_test = your_list[25:50]"
      ]
    },
    {
      "cell_type": "code",
      "execution_count": null,
      "metadata": {
        "id": "8-P3-emF9VCR"
      },
      "outputs": [],
      "source": [
        "Y_train_data = Y_train.iloc[list_train]\n",
        "Y_test_data = Y_train.iloc[list_test]"
      ]
    },
    {
      "cell_type": "code",
      "execution_count": null,
      "metadata": {
        "colab": {
          "base_uri": "https://localhost:8080/"
        },
        "id": "jOC0DWtp7DX_",
        "outputId": "96b10b2b-5f0a-4711-badd-2dd8aaa3a9c0"
      },
      "outputs": [
        {
          "name": "stderr",
          "output_type": "stream",
          "text": [
            "/usr/local/lib/python3.7/dist-packages/ipykernel_launcher.py:2: FutureWarning: In a future version of pandas all arguments of concat except for the argument 'objs' will be keyword-only\n",
            "  \n",
            "/usr/local/lib/python3.7/dist-packages/ipykernel_launcher.py:5: FutureWarning: In a future version of pandas all arguments of concat except for the argument 'objs' will be keyword-only\n",
            "  \"\"\"\n"
          ]
        }
      ],
      "source": [
        "X_train_data = X_train.iloc[list_train]\n",
        "X_train_data = pd.concat([ X_train_data.T.shift(i+1).stack(dropna=False) for i in range(250) ], 1).dropna()\n",
        "\n",
        "X_test_data = X_train.iloc[list_test]\n",
        "X_test_data = pd.concat([ X_test_data.T.shift(i+1).stack(dropna=False) for i in range(250) ], 1).dropna()"
      ]
    },
    {
      "cell_type": "code",
      "execution_count": null,
      "metadata": {
        "id": "GrVH115cgMFf"
      },
      "outputs": [],
      "source": [
        "def fitBeta(A, train = True):\n",
        "    if train:\n",
        "      X = X_train_data\n",
        "      Y = Y_train_data\n",
        "    else:\n",
        "      X = X_test_data\n",
        "      Y =  Y_test_data\n",
        "\n",
        "    X = torch.tensor(X.values)\n",
        "    predictors = torch.mm(X, A) # the dataframe of the 10 factors created from A with the (date, stock) in index\n",
        "\n",
        "    targets = Y.T.stack()\n",
        "    targets = torch.tensor(targets.values)\n",
        "    targets = targets[:,None]\n",
        "\n",
        "    beta = torch.linalg.inv(torch.mm(predictors.T, predictors))\n",
        "    beta = torch.mm(beta, predictors.T)\n",
        "    beta = torch.mm(beta, targets)\n",
        "\n",
        "    return beta\n",
        "\n",
        "def metric(df_y_true, df_y_pred):\n",
        "    \"\"\" Compute metric. \"\"\"\n",
        "    if df_y_pred is None:  # If the y_pred has only zeroes, the metric is set to -1.\n",
        "        return -1.0\n",
        "    \n",
        "    y_true = df_y_true.T\n",
        "    y_pred = df_y_pred.T\n",
        "    \n",
        "    y_true = y_true.div(y_true.pow(2.0).sum(1).pow(0.5), 0)\n",
        "    y_pred = y_pred.div(y_pred.pow(2.0).sum(1).pow(0.5), 0)\n",
        "\n",
        "    mean_overlap = (y_true * y_pred).sum(1).mean()\n",
        "\n",
        "    return mean_overlap   \n",
        "\n",
        "def metric_train(A, beta, train = True): \n",
        "    if train:\n",
        "      X = X_train_data\n",
        "      Y = Y_train_data\n",
        "      nbr = 25\n",
        "    else:\n",
        "      X = X_test_data\n",
        "      Y = Y_test_data\n",
        "      nbr = 25\n",
        "\n",
        "    X = torch.tensor(X.values)\n",
        "    beta = beta.reshape(10,1)\n",
        "    Ypred = torch.mm(X, A)\n",
        "    Ypred = torch.mm(Ypred, beta)\n",
        "    Ypred = Ypred.reshape(504, nbr).T \n",
        "    Ytrue = torch.tensor(Y.values)\n",
        "    \n",
        "    for k in range(504):\n",
        "        Ytrue[:,k] = Ytrue[:,k].clone()/torch.linalg.norm(Ytrue[:,k].clone())\n",
        "\n",
        "        Ypred[:,k] = Ypred[:,k].clone()/torch.linalg.norm(Ypred[:,k].clone())\n",
        "\n",
        "    \n",
        "    meanOverlap = torch.mean(torch.sum(Ytrue*Ypred,dim =  0))\n",
        "\n",
        "    return 0.2-meanOverlap\n",
        "\n",
        "\n",
        "\n"
      ]
    },
    {
      "cell_type": "markdown",
      "metadata": {
        "id": "L_zA8yOPgMFg"
      },
      "source": [
        "# Function Submission"
      ]
    },
    {
      "cell_type": "code",
      "execution_count": null,
      "metadata": {
        "id": "ow4_0GvEgMFh"
      },
      "outputs": [],
      "source": [
        "def transform_submission_to_ypred(df_A,df_beta, x_test, y_test):\n",
        "    \"\"\" Transform submission output (A, beta) into predicted returns S_t.\"\"\"\n",
        "    df_A = df_A.to_numpy()\n",
        "    df_beta = df_beta.to_numpy()\n",
        "    \n",
        "    A = df_A.reshape((250, 10))\n",
        "    beta = df_beta.reshape(10)\n",
        "\n",
        "    E = pd.DataFrame(A.T @ A - np.eye(10)).abs()  \n",
        "\n",
        "    # check orthogonality of A\n",
        "    if any(E.unstack() > 1e-6): \n",
        "        return None\n",
        "\n",
        "    x_test = x_test.T\n",
        "    y_test = y_test.T\n",
        "\n",
        "    x_test = x_test[y_test.columns]\n",
        "\n",
        "    x_test_reshape = pd.concat([x_test.shift(i+1).stack(dropna=False) for i in range(250)], 1).dropna()\n",
        "    y_pred = (x_test_reshape @ A @ beta).unstack()\n",
        "\n",
        "    return y_pred.T\n",
        "\n",
        "def parametersTransform(A, beta, D=250, F=10):\n",
        "    \n",
        "    if A.shape != (D, F):\n",
        "        print('A has not the good shape')\n",
        "        return\n",
        "    \n",
        "    if beta.shape[0] != F:\n",
        "        print('beta has not the good shape')\n",
        "        return        \n",
        "    \n",
        "    output = np.hstack( (np.hstack([A.T, beta.reshape((F, 1))])).T )\n",
        "    \n",
        "    return output\n",
        "\n",
        "def fitBeta_df(A):\n",
        "    predictors = X_train_reshape @ A # the dataframe of the 10 factors created from A with the (date, stock) in index\n",
        "    targets = Y_train.T.stack()\n",
        "    beta = np.linalg.inv(predictors.T @ predictors) @ predictors.T @ targets\n",
        "    \n",
        "    return beta.to_numpy()"
      ]
    },
    {
      "cell_type": "markdown",
      "metadata": {
        "id": "F-n-szhvgMFi"
      },
      "source": [
        "# Training"
      ]
    },
    {
      "cell_type": "code",
      "execution_count": null,
      "metadata": {
        "id": "piCLEodJgMFi"
      },
      "outputs": [],
      "source": [
        "torch.cuda.is_available()\n",
        "device = torch.device(\"cuda:0\" if torch.cuda.is_available() else \"cpu\")"
      ]
    },
    {
      "cell_type": "markdown",
      "metadata": {
        "id": "8TDzCTM-gMFj"
      },
      "source": [
        "## First model"
      ]
    },
    {
      "cell_type": "code",
      "execution_count": null,
      "metadata": {
        "id": "mpplDp8qgMFl"
      },
      "outputs": [],
      "source": [
        "class descente1():\n",
        "    def __init__(self):\n",
        "        self.A = torch.rand((250,10), requires_grad = True)\n",
        "\n",
        "    \n",
        "    def parameters(self):\n",
        "      return([self.A])\n",
        "\n",
        "    def forward(self):\n",
        "        return torch.linalg.qr(self.A, mode='reduced')[0]"
      ]
    },
    {
      "cell_type": "code",
      "execution_count": null,
      "metadata": {
        "id": "clExK7ZBgMFm"
      },
      "outputs": [],
      "source": [
        "n_epochs = 100"
      ]
    },
    {
      "cell_type": "code",
      "execution_count": null,
      "metadata": {
        "id": "5ygweaE2NEjk"
      },
      "outputs": [],
      "source": [
        "min_loss = 0.2"
      ]
    },
    {
      "cell_type": "code",
      "execution_count": null,
      "metadata": {
        "id": "YFRm8R9wgMFm"
      },
      "outputs": [],
      "source": [
        "for retest in range(1000):\n",
        "\n",
        "  model = descente1()\n",
        "  optimizer = torch.optim.Adam(model.parameters(), lr= 0.05)\n",
        "  total_loss = 0\n",
        "  Loss_mat = []\n",
        "  Loss_test = []\n",
        "  for j in range(n_epochs):\n",
        "    \n",
        "    Mat = model.forward().double()\n",
        "    Mat.to(device)\n",
        "\n",
        "    #beta  = Mat.clone().detach()\n",
        "    #beta.to(device)\n",
        "    #beta =  fitBeta(beta, train = True)\n",
        "    beta = torch.ones(10).double()\n",
        "\n",
        "    #loss = metric_train(Mat, beta  )\n",
        "    loss =  metric_train(Mat, beta, train= True)\n",
        "\n",
        "\n",
        "\n",
        "    optimizer.zero_grad()\n",
        "    loss.backward()\n",
        "    optimizer.step()\n",
        "\n",
        "    total_loss += loss.item()\n",
        "\n",
        "    loss_test = metric_train(Mat.detach() , beta.detach(), train = False)\n",
        "\n",
        "    if loss_test < min_loss:\n",
        "      min_loss = loss_test\n",
        "      Mat_fin = Mat.clone().detach().numpy()\n",
        "      beta_fin = beta.clone().detach().numpy()\n",
        "\n",
        "    if j >0:\n",
        "      Loss_test.append(loss_test)\n",
        "      Loss_mat.append(loss.item())\n",
        "\n",
        "    if j%10 ==0 and  j>0:\n",
        "      abscisse = np.linspace(1,len(Loss_mat), len(Loss_mat))\n",
        "      plt.plot(abscisse, Loss_mat)\n",
        "      plt.plot(abscisse, Loss_test)\n",
        "      plt.show()\n",
        "      print('At epochs '+str(j+1)+' : '+str(total_loss/(j+1)))\n",
        "      print('min_loss : '+str(min_loss))\n",
        "    #Mat_fin = pd.DataFrame(Mat_fin)\n",
        "    #Mat_fin.to_csv(PATH_GC+'/Challenge/random'+str(j))"
      ]
    },
    {
      "cell_type": "code",
      "execution_count": null,
      "metadata": {
        "colab": {
          "base_uri": "https://localhost:8080/"
        },
        "id": "sC1PGWFEBAe1",
        "outputId": "ff4aa850-b689-46c3-c1aa-28824f67e9df"
      },
      "outputs": [
        {
          "data": {
            "text/plain": [
              "0.06790000000000002"
            ]
          },
          "execution_count": 70,
          "metadata": {},
          "output_type": "execute_result"
        }
      ],
      "source": [
        "0.2-0.1321"
      ]
    },
    {
      "cell_type": "markdown",
      "metadata": {
        "id": "Iz5P7CZ-gMFn"
      },
      "source": [
        "# Second model"
      ]
    },
    {
      "cell_type": "code",
      "execution_count": null,
      "metadata": {
        "id": "MJ2qIVqrgMFo"
      },
      "outputs": [],
      "source": [
        "class descente():\n",
        "    def __init__(self):\n",
        "        super(descente, self).__init__()\n",
        "        #self.A = torch.tensor(A_QRT, requires_grad = True)\n",
        "        self.A = torch.rand((250,10), requires_grad = True)\n",
        "        self.B = torch.ones((10), requires_grad = True)\n",
        "\n",
        "    def parameters(self):\n",
        "      return([self.A, self.B])\n",
        "\n",
        "    def forward(self):\n",
        "        return torch.linalg.qr(self.A, mode='reduced')[0], self.B"
      ]
    },
    {
      "cell_type": "code",
      "execution_count": null,
      "metadata": {
        "id": "TagjbTA1I6mO"
      },
      "outputs": [],
      "source": [
        "min_loss = 0.2"
      ]
    },
    {
      "cell_type": "code",
      "execution_count": null,
      "metadata": {
        "id": "Y6MJ8VduLwGJ"
      },
      "outputs": [],
      "source": [
        "n_epochs = 60"
      ]
    },
    {
      "cell_type": "code",
      "execution_count": null,
      "metadata": {
        "id": "jJi1PJtXgMFo"
      },
      "outputs": [],
      "source": [
        "for retest in range(1000):\n",
        "\n",
        "  model = descente()\n",
        "  optimizer = torch.optim.Adam(model.parameters(), lr= 0.05)\n",
        "  total_loss = 0\n",
        "  Loss_mat = []\n",
        "  Loss_test = []\n",
        "  for j in range(n_epochs):\n",
        "    \n",
        "    Mat, beta = model.forward()\n",
        "    \n",
        "    Mat.to(device)\n",
        "    Mat = Mat.double()\n",
        "\n",
        "    beta.to(device)\n",
        "    beta = beta.double()\n",
        "    \n",
        "\n",
        "\n",
        "    loss =  metric_train(Mat, beta, train = True)\n",
        "\n",
        "    optimizer.zero_grad()\n",
        "    loss.backward()\n",
        "    optimizer.step()\n",
        "\n",
        "    total_loss += loss.item()\n",
        "\n",
        "    loss_test = metric_train(Mat.detach() , beta.detach(), train = False)\n",
        "\n",
        "    if loss_test < min_loss:\n",
        "      min_loss = loss_test\n",
        "      Mat_fin = Mat.clone().detach().numpy()\n",
        "      beta_fin = beta.clone().detach().numpy()\n",
        "\n",
        "    if j >0:\n",
        "      Loss_test.append(loss_test)\n",
        "      Loss_mat.append(loss.item())\n",
        "\n",
        "    if j%10 ==0 and  j>0:\n",
        "      abscisse = np.linspace(1,len(Loss_mat), len(Loss_mat))\n",
        "      plt.plot(abscisse, Loss_mat)\n",
        "      plt.plot(abscisse, Loss_test)\n",
        "      plt.show()\n",
        "      print('At epochs '+str(j+1)+' : '+str(total_loss/(j+1)))\n",
        "      print('min_loss : '+str(min_loss))\n",
        "  #    Mat_fin = pd.DataFrame(Mat_fin)\n",
        "  #    Mat_fin.to_csv('./Challenge/A'+str(j))\n",
        "\n",
        "  #    beta_fin = pd.DataFrame(beta_fin)\n",
        "  #    beta_fin.to_csv('./Challenge/beta'+str(j))\n",
        "      "
      ]
    },
    {
      "cell_type": "code",
      "execution_count": null,
      "metadata": {
        "colab": {
          "base_uri": "https://localhost:8080/"
        },
        "id": "fWasH4WmGhwW",
        "outputId": "1e260f6f-1393-494e-edac-c64c4de80026"
      },
      "outputs": [
        {
          "name": "stdout",
          "output_type": "stream",
          "text": [
            "77\n"
          ]
        }
      ],
      "source": [
        "print(j)\n",
        "\n",
        "Mat_df = pd.DataFrame(Mat_fin)\n",
        "Mat_df.to_csv(PATH_GC+'/Challenge/A'+str(j))\n",
        "\n",
        "beta_df = pd.DataFrame(beta_fin)\n",
        "beta_df.to_csv(PATH_GC+'/Challenge/beta'+str(j))"
      ]
    },
    {
      "cell_type": "code",
      "execution_count": null,
      "metadata": {
        "colab": {
          "base_uri": "https://localhost:8080/"
        },
        "id": "2cSWO5XBUPzB",
        "outputId": "99b8122e-d331-4fd1-888d-0e74cfe48e5e"
      },
      "outputs": [
        {
          "name": "stderr",
          "output_type": "stream",
          "text": [
            "/usr/local/lib/python3.7/dist-packages/ipykernel_launcher.py:20: FutureWarning: In a future version of pandas all arguments of concat except for the argument 'objs' will be keyword-only\n"
          ]
        },
        {
          "name": "stdout",
          "output_type": "stream",
          "text": [
            "0.1088998129069301\n"
          ]
        }
      ],
      "source": [
        "df_A = pd.DataFrame(Mat_fin)\n",
        "df_beta = pd.DataFrame(beta_fin)\n",
        "\n",
        "y_pred = transform_submission_to_ypred(df_A,df_beta, X_train, Y_train)\n",
        "result = metric(Y_train, y_pred)\n",
        "print(result)"
      ]
    },
    {
      "cell_type": "code",
      "execution_count": null,
      "metadata": {
        "colab": {
          "base_uri": "https://localhost:8080/",
          "height": 36
        },
        "id": "cwkwfNhaGk2k",
        "outputId": "9a94f563-eab8-4b46-f31c-69544e767382"
      },
      "outputs": [
        {
          "data": {
            "application/vnd.google.colaboratory.intrinsic+json": {
              "type": "string"
            },
            "text/plain": [
              "'/content/drive/My Drive/Challenge/A29'"
            ]
          },
          "execution_count": 117,
          "metadata": {},
          "output_type": "execute_result"
        }
      ],
      "source": [
        "PATH_GC+'/Challenge/A'+str(j)\n"
      ]
    },
    {
      "cell_type": "markdown",
      "metadata": {
        "id": "9oyg426TgMFo"
      },
      "source": [
        "# Submission "
      ]
    },
    {
      "cell_type": "code",
      "execution_count": null,
      "metadata": {
        "id": "kN4qq6pWgMFp"
      },
      "outputs": [],
      "source": [
        "\n",
        "\n",
        "pathA = '/content/drive/My Drive/Challenge/A' + str(j)\n",
        "pathB = '/content/drive/My Drive/Challenge/beta' + str(j)\n",
        "pathOutput = str(j)\n",
        "\n",
        "A = pd.read_csv( pathA, index_col=0, sep=',').to_numpy()\n",
        "beta = pd.read_csv(pathB, index_col=0, sep=',').to_numpy()\n",
        "\n",
        "output = parametersTransform(A, beta)\n",
        "pd.DataFrame(output).to_csv(PATH_GC+'/Challenge/'+pathOutput+'.csv')"
      ]
    },
    {
      "cell_type": "markdown",
      "metadata": {
        "id": "sQXxNH01g4hb"
      },
      "source": [
        "# Genetic"
      ]
    },
    {
      "cell_type": "code",
      "execution_count": null,
      "metadata": {
        "id": "eTyGb_bviazn"
      },
      "outputs": [],
      "source": [
        "def checkOrthonormality(A): \n",
        "    \n",
        "    bool = True\n",
        "    D, F = A.shape   \n",
        "    Error = pd.DataFrame(A.T @ A - np.eye(F)).abs()\n",
        "    \n",
        "    if any(Error.unstack() > 1e-6):\n",
        "        bool = False\n",
        "     \n",
        "    return bool\n",
        "\n",
        "\n",
        "def metric_train_df(A, beta): \n",
        "    \n",
        "    if not checkOrthonormality(A):\n",
        "        return -1.0    \n",
        "    \n",
        "    Ypred = (X_train_reshape @ A @ beta).unstack().T         \n",
        "    Ytrue = Y_train\n",
        "    \n",
        "    Ytrue = Ytrue.div(np.sqrt((Ytrue**2).sum()), 1)    \n",
        "    Ypred = Ypred.div(np.sqrt((Ypred**2).sum()), 1)\n",
        "\n",
        "    meanOverlap = (Ytrue * Ypred).sum().mean()\n",
        "\n",
        "    return  meanOverlap\n",
        "\n",
        "\n",
        "\n",
        "def fitBeta_df(A):\n",
        "    \n",
        "    predictors = X_train_reshape @ A # the dataframe of the 10 factors created from A with the (date, stock) in index\n",
        "    targets = Y_train.T.stack()\n",
        "    beta = np.linalg.inv(predictors.T @ predictors) @ predictors.T @ targets\n",
        "    \n",
        "    return beta.to_numpy()"
      ]
    },
    {
      "cell_type": "code",
      "execution_count": null,
      "metadata": {
        "id": "-V_6xzjYg7wN"
      },
      "outputs": [],
      "source": [
        "import random\n",
        "import numpy as np"
      ]
    },
    {
      "cell_type": "code",
      "execution_count": null,
      "metadata": {
        "id": "RBvu0y_XhMOj"
      },
      "outputs": [],
      "source": [
        "class Individual(object):\n",
        "\n",
        "  def __init__(self, chromosome):\n",
        "        self.chromosome = chromosome \n",
        "        self.fitness = self.cal_fitness()\n",
        "\n",
        "\n",
        "  @classmethod\n",
        "  def mutated_genes(self):\n",
        "    \"\"\"\n",
        "    Create random genes for mutation\n",
        "    \"\"\"\n",
        "\n",
        "    gene = np.random.randn(250)\n",
        "    return gene\n",
        "\n",
        "  @classmethod\n",
        "  def create_gnome(self):\n",
        "    '''\n",
        "    Create chromosome or string of genes\n",
        "    '''\n",
        "    gnome = np.random.randn(250, 10)\n",
        "\n",
        "    return np.linalg.qr(gnome)[0]\n",
        "\n",
        "\n",
        "  def mate(self, par2):\n",
        "    \"\"\"\n",
        "    Perform the mutation\n",
        "    \"\"\"\n",
        "\n",
        "    child_chromosome = np.zeros((250,10))\n",
        "\n",
        "    for column in range(10):\n",
        "\n",
        "      prob = random.random()\n",
        "\n",
        "      if prob < 0.45:\n",
        "        child_chromosome[:, column] = self.chromosome[:, column]\n",
        "      \n",
        "      elif prob >= 0.45 and prob < 0.90:\n",
        "        child_chromosome[:, column] = par2.chromosome[:, column]\n",
        "\n",
        "      else:\n",
        "        child_chromosome[:, column] = self.mutated_genes()\n",
        "\n",
        "    return Individual(np.linalg.qr(child_chromosome)[0])\n",
        "\n",
        "\n",
        "  def cal_fitness(self):\n",
        "    \"\"\"\n",
        "    Calculate metric\n",
        "    \"\"\"\n",
        "    beta = fitBeta_df(self.chromosome)\n",
        "\n",
        "    fitness = metric_train_df(self.chromosome , beta)\n",
        "\n",
        "    return fitness\n",
        "\n",
        "\n",
        "\n",
        "\n"
      ]
    },
    {
      "cell_type": "code",
      "execution_count": null,
      "metadata": {
        "id": "xbMffJwcqV_r",
        "colab": {
          "base_uri": "https://localhost:8080/",
          "height": 1000
        },
        "outputId": "ae225028-b0e6-44b0-eed1-2bc97ceadd4c"
      },
      "outputs": [
        {
          "output_type": "stream",
          "name": "stdout",
          "text": [
            "Best metric found is for generation : 0 and the value is 0.04637718234826114\n",
            "Best metric found is for generation : 1 and the value is 0.049888626383343855\n",
            "Best metric found is for generation : 2 and the value is 0.05561015883209621\n",
            "Best metric found is for generation : 3 and the value is 0.0635894568800699\n",
            "Best metric found is for generation : 4 and the value is 0.06368096618086531\n",
            "Best metric found is for generation : 5 and the value is 0.06736606642146517\n",
            "Best metric found is for generation : 6 and the value is 0.07174376696529719\n",
            "Best metric found is for generation : 7 and the value is 0.0739520582039841\n",
            "Best metric found is for generation : 8 and the value is 0.07537385416842961\n",
            "Best metric found is for generation : 9 and the value is 0.0779023671340428\n",
            "Best metric found is for generation : 10 and the value is 0.07809450197805123\n",
            "Best metric found is for generation : 12 and the value is 0.07929543341294229\n",
            "Best metric found is for generation : 13 and the value is 0.08145065458684055\n",
            "Best metric found is for generation : 14 and the value is 0.08228874253843205\n",
            "Best metric found is for generation : 17 and the value is 0.0833380458188773\n",
            "Best metric found is for generation : 18 and the value is 0.08348438639243103\n",
            "Best metric found is for generation : 19 and the value is 0.08437933132078305\n",
            "Best metric found is for generation : 21 and the value is 0.0854861783075889\n",
            "Best metric found is for generation : 23 and the value is 0.0855556147283629\n",
            "Best metric found is for generation : 25 and the value is 0.0859391696842503\n",
            "Best metric found is for generation : 27 and the value is 0.08605274650383005\n",
            "Best metric found is for generation : 28 and the value is 0.08639116260382003\n",
            "Best metric found is for generation : 29 and the value is 0.08650063915380128\n",
            "Best metric found is for generation : 30 and the value is 0.08683799415117244\n",
            "Best metric found is for generation : 31 and the value is 0.08709731323721923\n",
            "Best metric found is for generation : 32 and the value is 0.08709980220199677\n",
            "Best metric found is for generation : 33 and the value is 0.08763952567299527\n",
            "Best metric found is for generation : 34 and the value is 0.08765144084134163\n",
            "Best metric found is for generation : 35 and the value is 0.08770054842523893\n",
            "Best metric found is for generation : 36 and the value is 0.08785259260332462\n",
            "Best metric found is for generation : 37 and the value is 0.08787421806965497\n",
            "Best metric found is for generation : 39 and the value is 0.08789584744442787\n",
            "Best metric found is for generation : 40 and the value is 0.08790346981231552\n",
            "Best metric found is for generation : 42 and the value is 0.0879088495314714\n",
            "Best metric found is for generation : 43 and the value is 0.0892999979052868\n",
            "Best metric found is for generation : 45 and the value is 0.08930023082342162\n",
            "Best metric found is for generation : 46 and the value is 0.08930690782924632\n",
            "Best metric found is for generation : 47 and the value is 0.08930691725902828\n",
            "Best metric found is for generation : 48 and the value is 0.08930696387100548\n",
            "Best metric found is for generation : 49 and the value is 0.08930696398120179\n",
            "Best metric found is for generation : 50 and the value is 0.08930696442205478\n",
            "Best metric found is for generation : 51 and the value is 0.08962047130600352\n",
            "Best metric found is for generation : 53 and the value is 0.0896204824566957\n",
            "Best metric found is for generation : 54 and the value is 0.08967917632583132\n",
            "Best metric found is for generation : 55 and the value is 0.09031265889349693\n",
            "Best metric found is for generation : 62 and the value is 0.09032438672027986\n",
            "Best metric found is for generation : 63 and the value is 0.0903245949104646\n",
            "Best metric found is for generation : 64 and the value is 0.09111008400800935\n",
            "Best metric found is for generation : 65 and the value is 0.0914570217734502\n",
            "Best metric found is for generation : 67 and the value is 0.09145726242927944\n",
            "Best metric found is for generation : 68 and the value is 0.09145726571039614\n",
            "Best metric found is for generation : 69 and the value is 0.09145726601901251\n",
            "Best metric found is for generation : 70 and the value is 0.09145726622261562\n",
            "Best metric found is for generation : 71 and the value is 0.0914572673640014\n",
            "Best metric found is for generation : 73 and the value is 0.09145726815641661\n",
            "Best metric found is for generation : 74 and the value is 0.09145726943451334\n",
            "Best metric found is for generation : 76 and the value is 0.0914572694420602\n",
            "Best metric found is for generation : 77 and the value is 0.09145727009897504\n",
            "Best metric found is for generation : 78 and the value is 0.09145727030262507\n",
            "Best metric found is for generation : 79 and the value is 0.09145727031012486\n",
            "Best metric found is for generation : 80 and the value is 0.09145727031017188\n",
            "Best metric found is for generation : 81 and the value is 0.09171904594374616\n",
            "Best metric found is for generation : 84 and the value is 0.09171904594575049\n",
            "Best metric found is for generation : 86 and the value is 0.09172214542056636\n",
            "Best metric found is for generation : 89 and the value is 0.09172214542057448\n",
            "Best metric found is for generation : 90 and the value is 0.0917221454205745\n",
            "Best metric found is for generation : 91 and the value is 0.09172214542061982\n",
            "Best metric found is for generation : 92 and the value is 0.09172214542061984\n"
          ]
        },
        {
          "output_type": "error",
          "ename": "KeyboardInterrupt",
          "evalue": "ignored",
          "traceback": [
            "\u001b[0;31m---------------------------------------------------------------------------\u001b[0m",
            "\u001b[0;31mKeyboardInterrupt\u001b[0m                         Traceback (most recent call last)",
            "\u001b[0;32m<ipython-input-10-cf14bfc7c15a>\u001b[0m in \u001b[0;36m<module>\u001b[0;34m\u001b[0m\n\u001b[1;32m     31\u001b[0m     \u001b[0mparent2\u001b[0m \u001b[0;34m=\u001b[0m \u001b[0mrandom\u001b[0m\u001b[0;34m.\u001b[0m\u001b[0mchoice\u001b[0m\u001b[0;34m(\u001b[0m\u001b[0mpopulation\u001b[0m\u001b[0;34m[\u001b[0m\u001b[0;34m:\u001b[0m\u001b[0;36m50\u001b[0m\u001b[0;34m]\u001b[0m\u001b[0;34m)\u001b[0m\u001b[0;34m\u001b[0m\u001b[0;34m\u001b[0m\u001b[0m\n\u001b[1;32m     32\u001b[0m \u001b[0;34m\u001b[0m\u001b[0m\n\u001b[0;32m---> 33\u001b[0;31m     \u001b[0mchild\u001b[0m \u001b[0;34m=\u001b[0m \u001b[0mparent1\u001b[0m\u001b[0;34m.\u001b[0m\u001b[0mmate\u001b[0m\u001b[0;34m(\u001b[0m \u001b[0mparent2\u001b[0m\u001b[0;34m)\u001b[0m\u001b[0;34m\u001b[0m\u001b[0;34m\u001b[0m\u001b[0m\n\u001b[0m\u001b[1;32m     34\u001b[0m \u001b[0;34m\u001b[0m\u001b[0m\n\u001b[1;32m     35\u001b[0m     \u001b[0mnew_generation\u001b[0m\u001b[0;34m.\u001b[0m\u001b[0mappend\u001b[0m\u001b[0;34m(\u001b[0m\u001b[0mchild\u001b[0m\u001b[0;34m)\u001b[0m\u001b[0;34m\u001b[0m\u001b[0;34m\u001b[0m\u001b[0m\n",
            "\u001b[0;32m<ipython-input-9-7eac6c2a8f04>\u001b[0m in \u001b[0;36mmate\u001b[0;34m(self, par2)\u001b[0m\n\u001b[1;32m     45\u001b[0m         \u001b[0mchild_chromosome\u001b[0m\u001b[0;34m[\u001b[0m\u001b[0;34m:\u001b[0m\u001b[0;34m,\u001b[0m \u001b[0mcolumn\u001b[0m\u001b[0;34m]\u001b[0m \u001b[0;34m=\u001b[0m \u001b[0mself\u001b[0m\u001b[0;34m.\u001b[0m\u001b[0mmutated_genes\u001b[0m\u001b[0;34m(\u001b[0m\u001b[0;34m)\u001b[0m\u001b[0;34m\u001b[0m\u001b[0;34m\u001b[0m\u001b[0m\n\u001b[1;32m     46\u001b[0m \u001b[0;34m\u001b[0m\u001b[0m\n\u001b[0;32m---> 47\u001b[0;31m     \u001b[0;32mreturn\u001b[0m \u001b[0mIndividual\u001b[0m\u001b[0;34m(\u001b[0m\u001b[0mnp\u001b[0m\u001b[0;34m.\u001b[0m\u001b[0mlinalg\u001b[0m\u001b[0;34m.\u001b[0m\u001b[0mqr\u001b[0m\u001b[0;34m(\u001b[0m\u001b[0mchild_chromosome\u001b[0m\u001b[0;34m)\u001b[0m\u001b[0;34m[\u001b[0m\u001b[0;36m0\u001b[0m\u001b[0;34m]\u001b[0m\u001b[0;34m)\u001b[0m\u001b[0;34m\u001b[0m\u001b[0;34m\u001b[0m\u001b[0m\n\u001b[0m\u001b[1;32m     48\u001b[0m \u001b[0;34m\u001b[0m\u001b[0m\n\u001b[1;32m     49\u001b[0m \u001b[0;34m\u001b[0m\u001b[0m\n",
            "\u001b[0;32m<ipython-input-9-7eac6c2a8f04>\u001b[0m in \u001b[0;36m__init__\u001b[0;34m(self, chromosome)\u001b[0m\n\u001b[1;32m      3\u001b[0m   \u001b[0;32mdef\u001b[0m \u001b[0m__init__\u001b[0m\u001b[0;34m(\u001b[0m\u001b[0mself\u001b[0m\u001b[0;34m,\u001b[0m \u001b[0mchromosome\u001b[0m\u001b[0;34m)\u001b[0m\u001b[0;34m:\u001b[0m\u001b[0;34m\u001b[0m\u001b[0;34m\u001b[0m\u001b[0m\n\u001b[1;32m      4\u001b[0m         \u001b[0mself\u001b[0m\u001b[0;34m.\u001b[0m\u001b[0mchromosome\u001b[0m \u001b[0;34m=\u001b[0m \u001b[0mchromosome\u001b[0m\u001b[0;34m\u001b[0m\u001b[0;34m\u001b[0m\u001b[0m\n\u001b[0;32m----> 5\u001b[0;31m         \u001b[0mself\u001b[0m\u001b[0;34m.\u001b[0m\u001b[0mfitness\u001b[0m \u001b[0;34m=\u001b[0m \u001b[0mself\u001b[0m\u001b[0;34m.\u001b[0m\u001b[0mcal_fitness\u001b[0m\u001b[0;34m(\u001b[0m\u001b[0;34m)\u001b[0m\u001b[0;34m\u001b[0m\u001b[0;34m\u001b[0m\u001b[0m\n\u001b[0m\u001b[1;32m      6\u001b[0m \u001b[0;34m\u001b[0m\u001b[0m\n\u001b[1;32m      7\u001b[0m \u001b[0;34m\u001b[0m\u001b[0m\n",
            "\u001b[0;32m<ipython-input-9-7eac6c2a8f04>\u001b[0m in \u001b[0;36mcal_fitness\u001b[0;34m(self)\u001b[0m\n\u001b[1;32m     52\u001b[0m     \u001b[0mCalculate\u001b[0m \u001b[0mmetric\u001b[0m\u001b[0;34m\u001b[0m\u001b[0;34m\u001b[0m\u001b[0m\n\u001b[1;32m     53\u001b[0m     \"\"\"\n\u001b[0;32m---> 54\u001b[0;31m     \u001b[0mbeta\u001b[0m \u001b[0;34m=\u001b[0m \u001b[0mfitBeta_df\u001b[0m\u001b[0;34m(\u001b[0m\u001b[0mself\u001b[0m\u001b[0;34m.\u001b[0m\u001b[0mchromosome\u001b[0m\u001b[0;34m)\u001b[0m\u001b[0;34m\u001b[0m\u001b[0;34m\u001b[0m\u001b[0m\n\u001b[0m\u001b[1;32m     55\u001b[0m \u001b[0;34m\u001b[0m\u001b[0m\n\u001b[1;32m     56\u001b[0m     \u001b[0mfitness\u001b[0m \u001b[0;34m=\u001b[0m \u001b[0mmetric_train_df\u001b[0m\u001b[0;34m(\u001b[0m\u001b[0mself\u001b[0m\u001b[0;34m.\u001b[0m\u001b[0mchromosome\u001b[0m \u001b[0;34m,\u001b[0m \u001b[0mbeta\u001b[0m\u001b[0;34m)\u001b[0m\u001b[0;34m\u001b[0m\u001b[0;34m\u001b[0m\u001b[0m\n",
            "\u001b[0;32m<ipython-input-7-1aefb3482121>\u001b[0m in \u001b[0;36mfitBeta_df\u001b[0;34m(A)\u001b[0m\n\u001b[1;32m     30\u001b[0m \u001b[0;32mdef\u001b[0m \u001b[0mfitBeta_df\u001b[0m\u001b[0;34m(\u001b[0m\u001b[0mA\u001b[0m\u001b[0;34m)\u001b[0m\u001b[0;34m:\u001b[0m\u001b[0;34m\u001b[0m\u001b[0;34m\u001b[0m\u001b[0m\n\u001b[1;32m     31\u001b[0m \u001b[0;34m\u001b[0m\u001b[0m\n\u001b[0;32m---> 32\u001b[0;31m     \u001b[0mpredictors\u001b[0m \u001b[0;34m=\u001b[0m \u001b[0mX_train_reshape\u001b[0m \u001b[0;34m@\u001b[0m \u001b[0mA\u001b[0m \u001b[0;31m# the dataframe of the 10 factors created from A with the (date, stock) in index\u001b[0m\u001b[0;34m\u001b[0m\u001b[0;34m\u001b[0m\u001b[0m\n\u001b[0m\u001b[1;32m     33\u001b[0m     \u001b[0mtargets\u001b[0m \u001b[0;34m=\u001b[0m \u001b[0mY_train\u001b[0m\u001b[0;34m.\u001b[0m\u001b[0mT\u001b[0m\u001b[0;34m.\u001b[0m\u001b[0mstack\u001b[0m\u001b[0;34m(\u001b[0m\u001b[0;34m)\u001b[0m\u001b[0;34m\u001b[0m\u001b[0;34m\u001b[0m\u001b[0m\n\u001b[1;32m     34\u001b[0m     \u001b[0mbeta\u001b[0m \u001b[0;34m=\u001b[0m \u001b[0mnp\u001b[0m\u001b[0;34m.\u001b[0m\u001b[0mlinalg\u001b[0m\u001b[0;34m.\u001b[0m\u001b[0minv\u001b[0m\u001b[0;34m(\u001b[0m\u001b[0mpredictors\u001b[0m\u001b[0;34m.\u001b[0m\u001b[0mT\u001b[0m \u001b[0;34m@\u001b[0m \u001b[0mpredictors\u001b[0m\u001b[0;34m)\u001b[0m \u001b[0;34m@\u001b[0m \u001b[0mpredictors\u001b[0m\u001b[0;34m.\u001b[0m\u001b[0mT\u001b[0m \u001b[0;34m@\u001b[0m \u001b[0mtargets\u001b[0m\u001b[0;34m\u001b[0m\u001b[0;34m\u001b[0m\u001b[0m\n",
            "\u001b[0;32m/usr/local/lib/python3.7/dist-packages/pandas/core/frame.py\u001b[0m in \u001b[0;36m__matmul__\u001b[0;34m(self, other)\u001b[0m\n\u001b[1;32m   1490\u001b[0m         \u001b[0mMatrix\u001b[0m \u001b[0mmultiplication\u001b[0m \u001b[0musing\u001b[0m \u001b[0mbinary\u001b[0m\u001b[0;31m \u001b[0m\u001b[0;31m`\u001b[0m\u001b[0;34m@\u001b[0m\u001b[0;31m`\u001b[0m \u001b[0moperator\u001b[0m \u001b[0;32min\u001b[0m \u001b[0mPython\u001b[0m\u001b[0;34m>=\u001b[0m\u001b[0;36m3.5\u001b[0m\u001b[0;34m.\u001b[0m\u001b[0;34m\u001b[0m\u001b[0;34m\u001b[0m\u001b[0m\n\u001b[1;32m   1491\u001b[0m         \"\"\"\n\u001b[0;32m-> 1492\u001b[0;31m         \u001b[0;32mreturn\u001b[0m \u001b[0mself\u001b[0m\u001b[0;34m.\u001b[0m\u001b[0mdot\u001b[0m\u001b[0;34m(\u001b[0m\u001b[0mother\u001b[0m\u001b[0;34m)\u001b[0m\u001b[0;34m\u001b[0m\u001b[0;34m\u001b[0m\u001b[0m\n\u001b[0m\u001b[1;32m   1493\u001b[0m \u001b[0;34m\u001b[0m\u001b[0m\n\u001b[1;32m   1494\u001b[0m     \u001b[0;32mdef\u001b[0m \u001b[0m__rmatmul__\u001b[0m\u001b[0;34m(\u001b[0m\u001b[0mself\u001b[0m\u001b[0;34m,\u001b[0m \u001b[0mother\u001b[0m\u001b[0;34m)\u001b[0m\u001b[0;34m:\u001b[0m\u001b[0;34m\u001b[0m\u001b[0;34m\u001b[0m\u001b[0m\n",
            "\u001b[0;32m/usr/local/lib/python3.7/dist-packages/pandas/core/frame.py\u001b[0m in \u001b[0;36mdot\u001b[0;34m(self, other)\u001b[0m\n\u001b[1;32m   1466\u001b[0m             \u001b[0;32mreturn\u001b[0m \u001b[0mself\u001b[0m\u001b[0;34m.\u001b[0m\u001b[0m_constructor_sliced\u001b[0m\u001b[0;34m(\u001b[0m\u001b[0mnp\u001b[0m\u001b[0;34m.\u001b[0m\u001b[0mdot\u001b[0m\u001b[0;34m(\u001b[0m\u001b[0mlvals\u001b[0m\u001b[0;34m,\u001b[0m \u001b[0mrvals\u001b[0m\u001b[0;34m)\u001b[0m\u001b[0;34m,\u001b[0m \u001b[0mindex\u001b[0m\u001b[0;34m=\u001b[0m\u001b[0mleft\u001b[0m\u001b[0;34m.\u001b[0m\u001b[0mindex\u001b[0m\u001b[0;34m)\u001b[0m\u001b[0;34m\u001b[0m\u001b[0;34m\u001b[0m\u001b[0m\n\u001b[1;32m   1467\u001b[0m         \u001b[0;32melif\u001b[0m \u001b[0misinstance\u001b[0m\u001b[0;34m(\u001b[0m\u001b[0mrvals\u001b[0m\u001b[0;34m,\u001b[0m \u001b[0;34m(\u001b[0m\u001b[0mnp\u001b[0m\u001b[0;34m.\u001b[0m\u001b[0mndarray\u001b[0m\u001b[0;34m,\u001b[0m \u001b[0mIndex\u001b[0m\u001b[0;34m)\u001b[0m\u001b[0;34m)\u001b[0m\u001b[0;34m:\u001b[0m\u001b[0;34m\u001b[0m\u001b[0;34m\u001b[0m\u001b[0m\n\u001b[0;32m-> 1468\u001b[0;31m             \u001b[0mresult\u001b[0m \u001b[0;34m=\u001b[0m \u001b[0mnp\u001b[0m\u001b[0;34m.\u001b[0m\u001b[0mdot\u001b[0m\u001b[0;34m(\u001b[0m\u001b[0mlvals\u001b[0m\u001b[0;34m,\u001b[0m \u001b[0mrvals\u001b[0m\u001b[0;34m)\u001b[0m\u001b[0;34m\u001b[0m\u001b[0;34m\u001b[0m\u001b[0m\n\u001b[0m\u001b[1;32m   1469\u001b[0m             \u001b[0;32mif\u001b[0m \u001b[0mresult\u001b[0m\u001b[0;34m.\u001b[0m\u001b[0mndim\u001b[0m \u001b[0;34m==\u001b[0m \u001b[0;36m2\u001b[0m\u001b[0;34m:\u001b[0m\u001b[0;34m\u001b[0m\u001b[0;34m\u001b[0m\u001b[0m\n\u001b[1;32m   1470\u001b[0m                 \u001b[0;32mreturn\u001b[0m \u001b[0mself\u001b[0m\u001b[0;34m.\u001b[0m\u001b[0m_constructor\u001b[0m\u001b[0;34m(\u001b[0m\u001b[0mresult\u001b[0m\u001b[0;34m,\u001b[0m \u001b[0mindex\u001b[0m\u001b[0;34m=\u001b[0m\u001b[0mleft\u001b[0m\u001b[0;34m.\u001b[0m\u001b[0mindex\u001b[0m\u001b[0;34m)\u001b[0m\u001b[0;34m\u001b[0m\u001b[0;34m\u001b[0m\u001b[0m\n",
            "\u001b[0;32m<__array_function__ internals>\u001b[0m in \u001b[0;36mdot\u001b[0;34m(*args, **kwargs)\u001b[0m\n",
            "\u001b[0;31mKeyboardInterrupt\u001b[0m: "
          ]
        }
      ],
      "source": [
        "population = []\n",
        "max = 0\n",
        "nbr_of_iteration = 1000\n",
        "population_size = 250\n",
        "\n",
        "for _ in range(population_size):\n",
        "  gnome = Individual.create_gnome()\n",
        "\n",
        "  population.append(Individual(gnome))\n",
        "\n",
        "for generation in range(nbr_of_iteration):\n",
        "  population = sorted(population, key = lambda x:x.fitness, reverse = True)\n",
        "\n",
        "  if population[0].fitness > max:\n",
        "\n",
        "    best_chromosome = population[0].chromosome\n",
        "    max = population[0].fitness\n",
        "    print(f'Best metric found is for generation : {generation} and the value is {max}' )\n",
        "\n",
        "  new_generation = []\n",
        "\n",
        "  s = int((10 * population_size)/100)\n",
        "\n",
        "  new_generation.extend(population[:s])\n",
        "\n",
        "  s = int((90 * population_size)/100)\n",
        "\n",
        "\n",
        "  for _ in range(s):\n",
        "    parent1 = random.choice(population[:50])\n",
        "    parent2 = random.choice(population[:50])\n",
        "\n",
        "    child = parent1.mate( parent2)\n",
        "\n",
        "    new_generation.append(child)\n",
        "\n",
        "  population = new_generation\n",
        "\n",
        "  #print(\"Generation: {}\\tFitness: {}\".format(generation, population[0].fitness))\n"
      ]
    },
    {
      "cell_type": "code",
      "source": [
        "transform_submission_to_ypred(pd.DataFrame(best_chromosome), pd.DataFrame(fitBeta_df(best_chromosome)), X_train, Y_train)"
      ],
      "metadata": {
        "id": "QRFe0bSV_peO"
      },
      "execution_count": null,
      "outputs": []
    },
    {
      "cell_type": "code",
      "source": [
        "output = parametersTransform(best_chromosome,  fitBeta_df(best_chromosome))"
      ],
      "metadata": {
        "id": "6wDdhlZvAZCY"
      },
      "execution_count": null,
      "outputs": []
    },
    {
      "cell_type": "code",
      "source": [
        "pathOutput =\"generic_algo_1\"\n",
        "\n",
        "pd.DataFrame(output).to_csv(PATH_GC+'/'+pathOutput+'.csv')"
      ],
      "metadata": {
        "id": "PyCdtfTkAhUN"
      },
      "execution_count": null,
      "outputs": []
    }
  ],
  "metadata": {
    "colab": {
      "provenance": [],
      "collapsed_sections": [
        "iR3y2022gMFd",
        "L_zA8yOPgMFg",
        "F-n-szhvgMFi",
        "Iz5P7CZ-gMFn",
        "9oyg426TgMFo"
      ],
      "include_colab_link": true
    },
    "gpuClass": "standard",
    "kernelspec": {
      "display_name": "Python 3.8.3",
      "language": "python",
      "name": "python3"
    },
    "language_info": {
      "codemirror_mode": {
        "name": "ipython",
        "version": 3
      },
      "file_extension": ".py",
      "mimetype": "text/x-python",
      "name": "python",
      "nbconvert_exporter": "python",
      "pygments_lexer": "ipython3",
      "version": "3.8.3"
    },
    "orig_nbformat": 4,
    "vscode": {
      "interpreter": {
        "hash": "fd57df26ec1d9b2ea12c465a3d7e25e7cc91f1c61ff89d1a01c9d25e4a57bda9"
      }
    }
  },
  "nbformat": 4,
  "nbformat_minor": 0
}